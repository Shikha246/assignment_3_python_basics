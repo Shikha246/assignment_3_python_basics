{
 "cells": [
  {
   "cell_type": "markdown",
   "id": "863e96d4",
   "metadata": {},
   "source": [
    "## 1. Why are functions advantageous to have in your programs?"
   ]
  },
  {
   "cell_type": "markdown",
   "id": "efa5e490",
   "metadata": {},
   "source": [
    "Functions are advantageous in theprogram because it helps in developing the logic once and then we can call that entire function infinite times also function breaks the program into smaller chunks which help in fixing or debugging the code easily.Is easier to call the function once its defined."
   ]
  },
  {
   "cell_type": "markdown",
   "id": "2a2392e0",
   "metadata": {},
   "source": [
    "## 2. When does the code in a function run: when it&#39;s specified or when it&#39;s called?"
   ]
  },
  {
   "cell_type": "markdown",
   "id": "f957d691",
   "metadata": {},
   "source": [
    "A function runs only when it is called."
   ]
  },
  {
   "cell_type": "markdown",
   "id": "63c32049",
   "metadata": {},
   "source": [
    "## 3. What statement creates a function?"
   ]
  },
  {
   "cell_type": "markdown",
   "id": "3c1a60d7",
   "metadata": {},
   "source": [
    "def keyword is needed to define the function\n",
    "for ex: def add():\n",
    "            c=a+b\n",
    "            return c\n",
    "Here add() is a function which adds two number \n",
    "syntacx: def name_of_function():\n",
    "                body_of_function"
   ]
  },
  {
   "cell_type": "markdown",
   "id": "6d3abb5c",
   "metadata": {},
   "source": [
    "## 4. What is the difference between a function and a function call?"
   ]
  },
  {
   "cell_type": "markdown",
   "id": "3dd1d7d0",
   "metadata": {},
   "source": [
    "A function is where you write the entire logic for the given problem statement and after writing the logic of the program you have to call that function so that it can execute the the entire program."
   ]
  },
  {
   "cell_type": "markdown",
   "id": "6906686a",
   "metadata": {},
   "source": [
    "## 5. How many global scopes are there in a Python program? How many local scopes?"
   ]
  },
  {
   "cell_type": "markdown",
   "id": "c73c45da",
   "metadata": {},
   "source": [
    "There is only one global scope in python.It teminates as the program ends and the names are forgotten as the program completes.There is only one local scope but you'll always have at least two active scopes, which are the global and built-in scopes."
   ]
  },
  {
   "cell_type": "markdown",
   "id": "81ed637f",
   "metadata": {},
   "source": [
    "## 6. What happens to variables in a local scope when the function call returns?"
   ]
  },
  {
   "cell_type": "markdown",
   "id": "fae253f0",
   "metadata": {},
   "source": [
    "When the execution of the function terminates (returns), the local variables are destroyed."
   ]
  },
  {
   "cell_type": "markdown",
   "id": "5f74f306",
   "metadata": {},
   "source": [
    "## 7. What is the concept of a return value? Is it possible to have a return value in an expression?"
   ]
  },
  {
   "cell_type": "markdown",
   "id": "929a6994",
   "metadata": {},
   "source": [
    "Return command returns the value where the function is called. The return command can have an expression but i returns the value after executing the expression which is defined during return command."
   ]
  },
  {
   "cell_type": "markdown",
   "id": "ff089f35",
   "metadata": {},
   "source": [
    "## 8. If a function does not have a return statement, what is the return value of a call to that function?"
   ]
  },
  {
   "cell_type": "markdown",
   "id": "48602f52",
   "metadata": {},
   "source": [
    "It will not return any value and you will not get any output"
   ]
  },
  {
   "cell_type": "markdown",
   "id": "ff72a965",
   "metadata": {},
   "source": [
    "## 9. How do you make a function variable refer to the global variable?"
   ]
  },
  {
   "cell_type": "markdown",
   "id": "8977afed",
   "metadata": {},
   "source": [
    "Normally, when you create a variable inside a function, that variable is local, and can only be used inside that function.\n",
    "\n",
    "To create a global variable inside a function, you can use the global keyword."
   ]
  },
  {
   "cell_type": "markdown",
   "id": "ea84c7ef",
   "metadata": {},
   "source": [
    "## 10. What is the data type of None?"
   ]
  },
  {
   "cell_type": "code",
   "execution_count": 1,
   "id": "c544518e",
   "metadata": {},
   "outputs": [
    {
     "data": {
      "text/plain": [
       "NoneType"
      ]
     },
     "execution_count": 1,
     "metadata": {},
     "output_type": "execute_result"
    }
   ],
   "source": [
    "type(None)"
   ]
  },
  {
   "cell_type": "markdown",
   "id": "3bdd5738",
   "metadata": {},
   "source": [
    "ans: data type of None is NoneType"
   ]
  },
  {
   "cell_type": "markdown",
   "id": "568bdbc4",
   "metadata": {},
   "source": [
    "## 11. What does the sentence import areallyourpetsnamederic do?"
   ]
  },
  {
   "cell_type": "markdown",
   "id": "a58c9092",
   "metadata": {},
   "source": [
    "It will import all the packages and modules of the library areallyourpetsnamederic."
   ]
  },
  {
   "cell_type": "markdown",
   "id": "42611a24",
   "metadata": {},
   "source": [
    "## 12. If you had a bacon() feature in a spam module, what would you call it after importing spam?"
   ]
  },
  {
   "cell_type": "markdown",
   "id": "a0f28a31",
   "metadata": {},
   "source": [
    "import spam *\n",
    "spam.bacon()"
   ]
  },
  {
   "cell_type": "markdown",
   "id": "927dbb0b",
   "metadata": {},
   "source": [
    "## 13. What can you do to save a programme from crashing if it encounters an error?"
   ]
  },
  {
   "cell_type": "markdown",
   "id": "e6244e5e",
   "metadata": {},
   "source": [
    "By exception handling using try and except command"
   ]
  },
  {
   "cell_type": "markdown",
   "id": "81b71e79",
   "metadata": {},
   "source": [
    "## 14. What is the purpose of the try clause? What is the purpose of the except clause?"
   ]
  },
  {
   "cell_type": "markdown",
   "id": "0563731b",
   "metadata": {},
   "source": [
    "try block lets you test a block of code of errors\n",
    "except block lets you handle the error"
   ]
  },
  {
   "cell_type": "code",
   "execution_count": null,
   "id": "e532bf24",
   "metadata": {},
   "outputs": [],
   "source": []
  }
 ],
 "metadata": {
  "kernelspec": {
   "display_name": "Python 3 (ipykernel)",
   "language": "python",
   "name": "python3"
  },
  "language_info": {
   "codemirror_mode": {
    "name": "ipython",
    "version": 3
   },
   "file_extension": ".py",
   "mimetype": "text/x-python",
   "name": "python",
   "nbconvert_exporter": "python",
   "pygments_lexer": "ipython3",
   "version": "3.9.7"
  }
 },
 "nbformat": 4,
 "nbformat_minor": 5
}
